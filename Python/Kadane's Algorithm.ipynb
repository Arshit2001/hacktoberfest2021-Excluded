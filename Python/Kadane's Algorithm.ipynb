{
 "cells": [
  {
   "cell_type": "code",
   "execution_count": 2,
   "metadata": {},
   "outputs": [
    {
     "data": {
      "text/plain": [
       "7"
      ]
     },
     "execution_count": 2,
     "metadata": {},
     "output_type": "execute_result"
    }
   ],
   "source": [
    "def Kadanes(arr):\n",
    "    current_sum=0\n",
    "    max_so_far=arr[0]\n",
    "    \n",
    "    for i in range(len(arr)):\n",
    "        current_sum=current_sum+arr[i]\n",
    "        if current_sum>max_so_far:\n",
    "            max_so_far=current_sum\n",
    "        elif current_sum<0:\n",
    "            current_sum=0\n",
    "    return max_so_far\n",
    "\n",
    "\n",
    "Kadanes([-2,-3,4,-1,-2,1,5,-3])"
   ]
  },
  {
   "cell_type": "code",
   "execution_count": null,
   "metadata": {},
   "outputs": [],
   "source": [
    "#Idea\n",
    "#- Look for all positive contiguous segments of the array(current_sum).\n",
    "#- Keep track of maximum sum contiguous segment among all positive segments(max_so_far).\n",
    "#- Each time on getting a positive sum(current_sum), compare max_so_far with current_sum and update former if latter>former.\n",
    "\n",
    "#Time complexity = O(n)\n",
    "#Space complexity = O(1)"
   ]
  },
  {
   "cell_type": "markdown",
   "metadata": {},
   "source": [
    " **USE:**\n",
    " - Maximum sum subarray \n",
    " - Image processing algo"
   ]
  },
  {
   "cell_type": "code",
   "execution_count": null,
   "metadata": {},
   "outputs": [],
   "source": []
  }
 ],
 "metadata": {
  "kernelspec": {
   "display_name": "Python 3",
   "language": "python",
   "name": "python3"
  },
  "language_info": {
   "codemirror_mode": {
    "name": "ipython",
    "version": 3
   },
   "file_extension": ".py",
   "mimetype": "text/x-python",
   "name": "python",
   "nbconvert_exporter": "python",
   "pygments_lexer": "ipython3",
   "version": "3.8.3"
  }
 },
 "nbformat": 4,
 "nbformat_minor": 4
}
