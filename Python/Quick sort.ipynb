{
 "cells": [
  {
   "cell_type": "markdown",
   "metadata": {},
   "source": [
    "**CODE:**"
   ]
  },
  {
   "cell_type": "code",
   "execution_count": 30,
   "metadata": {},
   "outputs": [
    {
     "name": "stdout",
     "output_type": "stream",
     "text": [
      "Sorted array: [1, 5, 7, 8, 9, 10]\n"
     ]
    }
   ],
   "source": [
    "def partition(start, end, array):\n",
    "    pivot_index = start \n",
    "    pivot = array[pivot_index]\n",
    "    \n",
    "    while start < end:\n",
    "          \n",
    "        while start < len(array) and array[start] <= pivot:\n",
    "            start=start+1\n",
    "              \n",
    "        while array[end] >= pivot:\n",
    "            end=end-1\n",
    "          \n",
    "        if(start < end):  #Swap\n",
    "            temp=array[start]\n",
    "            array[start]=array[end]\n",
    "            array[end]=temp\n",
    "        \n",
    "    array[end], array[pivot_index] = array[pivot_index], array[end] #Swap\n",
    "    \n",
    "    return end\n",
    "       \n",
    "def quick_sort(start, end, array):\n",
    "      \n",
    "    if (start < end):\n",
    "        p = partition(start, end, array)\n",
    "        quick_sort(start, p - 1, array)\n",
    "        quick_sort(p + 1, end, array)\n",
    "          \n",
    "\n",
    "array = [ 10, 7, 8, 9, 1, 5 ]\n",
    "quick_sort(0, len(array) - 1, array)\n",
    "  \n",
    "print(f'Sorted array: {array}')"
   ]
  },
  {
   "cell_type": "markdown",
   "metadata": {},
   "source": [
    "Quick sort is a **divide and conquer algorithm**. It picks an element as pivot and partitions the given array around the picked pivot. \n",
    "\n",
    "- Tail recursive algorithm.\n",
    "- **Not stable and non-adaptive** \n",
    "- **In-place sorting** (does not require extra space).\n",
    "- Time complexity:\n",
    "   - **Best case: O(nlogn)**  (When partitions are evenly balanced)\n",
    "   - **Worst case: O(n^2)**   (When partitions are not balanced, when pivot is always a corner element in sorted array)\n",
    "   - **Average case: O(nlogn)**\n",
    "- Space complexity:\n",
    "   - **Average case: O(nlogn)**\n",
    "   - **Worst case: O(n)** \n",
    "- Better than merge sort (no extra space required, faster, cache friendly).\n",
    "- *Use*: For sorting any list in a faster manner. Can be used when there are space restrictions."
   ]
  },
  {
   "cell_type": "markdown",
   "metadata": {},
   "source": [
    "Randomised quick sort:\n",
    "Sometimes selecting the  rightmost element at all times might result in the worst case scenario. In such cases, choosing a random element as the pivot at each step will reduce the proability of triggering the worst case scenario. We chose the pivots closer to the center of the array in such cases. The complexity becomes nlogn in such cases."
   ]
  },
  {
   "cell_type": "code",
   "execution_count": null,
   "metadata": {},
   "outputs": [],
   "source": []
  }
 ],
 "metadata": {
  "kernelspec": {
   "display_name": "Python 3",
   "language": "python",
   "name": "python3"
  },
  "language_info": {
   "codemirror_mode": {
    "name": "ipython",
    "version": 3
   },
   "file_extension": ".py",
   "mimetype": "text/x-python",
   "name": "python",
   "nbconvert_exporter": "python",
   "pygments_lexer": "ipython3",
   "version": "3.8.3"
  }
 },
 "nbformat": 4,
 "nbformat_minor": 4
}
