{
 "cells": [
  {
   "cell_type": "code",
   "execution_count": 1,
   "metadata": {},
   "outputs": [
    {
     "name": "stdout",
     "output_type": "stream",
     "text": [
      "Symmetrical\n",
      "Palindrome\n",
      "\n",
      "\n",
      "Not symmetrical\n",
      "Palindrome\n"
     ]
    }
   ],
   "source": [
    "def func(string):\n",
    "    half=int(len(string)/2)\n",
    "    if len(string)%2==0:    #len of string==even\n",
    "        first_half=string[:half]\n",
    "        second_half=string[half:]\n",
    "    else:                   #len of string=odd\n",
    "        first_half=string[:half]\n",
    "        second_half=string[half+1:]\n",
    "        \n",
    "    if first_half==second_half:\n",
    "        print('Symmetrical')\n",
    "    else:\n",
    "        print('Not symmetrical')\n",
    "    if first_half==second_half[::-1]:\n",
    "        print('Palindrome')\n",
    "    else:\n",
    "        print('Not a palindrome')\n",
    "        \n",
    "func('amaama')\n",
    "print('\\n')\n",
    "func('malayalam')"
   ]
  },
  {
   "cell_type": "code",
   "execution_count": null,
   "metadata": {},
   "outputs": [],
   "source": []
  }
 ],
 "metadata": {
  "kernelspec": {
   "display_name": "Python 3",
   "language": "python",
   "name": "python3"
  },
  "language_info": {
   "codemirror_mode": {
    "name": "ipython",
    "version": 3
   },
   "file_extension": ".py",
   "mimetype": "text/x-python",
   "name": "python",
   "nbconvert_exporter": "python",
   "pygments_lexer": "ipython3",
   "version": "3.8.3"
  }
 },
 "nbformat": 4,
 "nbformat_minor": 4
}
